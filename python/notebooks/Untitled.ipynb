{
 "cells": [
  {
   "cell_type": "code",
   "execution_count": 2,
   "metadata": {
    "collapsed": false
   },
   "outputs": [],
   "source": [
    "%matplotlib qt\n",
    "import numpy as np\n",
    "import matplotlib.pyplot as plt\n",
    "import scipy.signal as signal"
   ]
  },
  {
   "cell_type": "markdown",
   "metadata": {},
   "source": [
    "# IQ Imbalance correction"
   ]
  },
  {
   "cell_type": "markdown",
   "metadata": {},
   "source": [
    "## Creating test data"
   ]
  },
  {
   "cell_type": "code",
   "execution_count": 40,
   "metadata": {
    "collapsed": false
   },
   "outputs": [],
   "source": [
    "#signal parameters\n",
    "fs = 5e3\n",
    "fc = 1e3\n",
    "sigLen = 500\n",
    "\n",
    "\n",
    "#clean signal, complex sinusoid at 1000 Hz\n",
    "cleanSig = np.exp(1j*2*np.pi*fc*np.arange(sigLen)/fs)\n",
    "\n",
    "#add impairment\n",
    "alpha = np.random.randn(1) #amplitude offset\n",
    "beta = np.random.randn(1) #phase offset\n",
    "capSig = cleanSig.copy()\n",
    "capSig += alpha*np.exp(1j*beta)*np.ones_like(capSig) + np.random.randn(sigLen)\n",
    "capSig /= max(np.abs(capSig))"
   ]
  },
  {
   "cell_type": "markdown",
   "metadata": {},
   "source": [
    "## FFT stuff"
   ]
  },
  {
   "cell_type": "code",
   "execution_count": 44,
   "metadata": {
    "collapsed": false
   },
   "outputs": [],
   "source": [
    "cleanFFT = np.fft.fftshift(np.fft.fft(cleanSig,4096))\n",
    "capFFT = np.fft.fftshift(np.fft.fft(capSig,4096))"
   ]
  },
  {
   "cell_type": "markdown",
   "metadata": {},
   "source": [
    "## plots"
   ]
  },
  {
   "cell_type": "code",
   "execution_count": 45,
   "metadata": {
    "collapsed": false
   },
   "outputs": [],
   "source": [
    "plt.figure()\n",
    "plt.subplot(211)\n",
    "plt.plot(np.abs(cleanSig))\n",
    "plt.plot(np.abs(capSig))\n",
    "plt.subplot(212)\n",
    "plt.plot(np.abs(cleanFFT))\n",
    "plt.plot(np.abs(capFFT))\n",
    "plt.show()"
   ]
  },
  {
   "cell_type": "code",
   "execution_count": 53,
   "metadata": {
    "collapsed": false
   },
   "outputs": [
    {
     "name": "stdout",
     "output_type": "stream",
     "text": [
      "-0.197753037086\n",
      "[ 0.28167909]\n"
     ]
    }
   ],
   "source": []
  },
  {
   "cell_type": "code",
   "execution_count": null,
   "metadata": {
    "collapsed": true
   },
   "outputs": [],
   "source": []
  }
 ],
 "metadata": {
  "anaconda-cloud": {},
  "kernelspec": {
   "display_name": "Python [default]",
   "language": "python",
   "name": "python2"
  },
  "language_info": {
   "codemirror_mode": {
    "name": "ipython",
    "version": 2
   },
   "file_extension": ".py",
   "mimetype": "text/x-python",
   "name": "python",
   "nbconvert_exporter": "python",
   "pygments_lexer": "ipython2",
   "version": "2.7.13"
  }
 },
 "nbformat": 4,
 "nbformat_minor": 2
}
